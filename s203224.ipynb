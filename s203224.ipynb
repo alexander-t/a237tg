{
 "cells": [
  {
   "cell_type": "markdown",
   "metadata": {},
   "source": [
    "***Inlämningsuppgift i kursen Grundläggande programmering i Python sommaren 2020***"
   ]
  },
  {
   "cell_type": "markdown",
   "metadata": {},
   "source": [
    "__Deluppgift 1:__ Skapa egendefinerade funktioner som beräknar medelvärde, minsta värde och största värde ur en numerisk lista. Använd skelettet i nedanstående cell. "
   ]
  },
  {
   "cell_type": "code",
   "execution_count": 1,
   "metadata": {},
   "outputs": [],
   "source": [
    "# Deluppgift1:\n",
    "# ------------\n",
    "# Egendefinierade funktioner för medelvärde, största- och minsta värde i en numerisk lista (num_lista)\n",
    "\n",
    "# Medelvärde:\n",
    "def mean_value(num_lista):\n",
    "    if num_lista:\n",
    "        return sum(num_lista) / len(num_lista)\n",
    "    raise ValueError('Kan ej beräkna medeltal för en tom lista')\n",
    "\n",
    "# Största värde:\n",
    "def max_value(num_lista):\n",
    "    # Återimplementerar Pythons inbyggda funktion max()\n",
    "    if num_lista:\n",
    "        max_varde = num_lista[0]\n",
    "        for v in num_lista:\n",
    "            if v > max_varde:\n",
    "                max_varde = v\n",
    "        return max_varde\n",
    "    raise ValueError('Kan ej hitta största värde för en tom lista')\n",
    "\n",
    "# Minsta värde:\n",
    "def min_value(num_lista):\n",
    "    # Återimplementerar Pythons inbyggda funktion min()\n",
    "    if num_lista:\n",
    "        min_varde = num_lista[0]\n",
    "        for v in num_lista:\n",
    "            if v < min_varde:\n",
    "                min_varde = v\n",
    "        return min_varde\n",
    "    raise ValueError('Kan ej hitta minsta värde för en tom lista')\n"
   ]
  },
  {
   "cell_type": "code",
   "execution_count": 2,
   "metadata": {
    "scrolled": true
   },
   "outputs": [
    {
     "name": "stdout",
     "output_type": "stream",
     "text": [
      "-0.85\n",
      "73.8\n",
      "-99.8\n"
     ]
    }
   ],
   "source": [
    "# Deluppgift 1:\n",
    "# -------------\n",
    "# Testa dina egendefinierade funktioner på nedanstående lista och skriv ut svaren på skärmen\n",
    "# (Observera att du måste köra ovanstående cell (Run) innan du kan använda funktionerna)\n",
    "\n",
    "num_lista = [10, 15, -3.25, 73.8, -99.8]\n",
    "\n",
    "# Skriv koden här:\n",
    "print(mean_value(num_lista))\n",
    "print(max_value(num_lista))\n",
    "print(min_value(num_lista))"
   ]
  },
  {
   "cell_type": "markdown",
   "metadata": {},
   "source": [
    "__Deluppgift 2:__ Läs innehållet i CSV-filen __trafikdata.csv__ och spara dess innehåll i listan __trafik_data__. Använd nedanstående cell."
   ]
  },
  {
   "cell_type": "code",
   "execution_count": 3,
   "metadata": {},
   "outputs": [],
   "source": [
    "# Deluppgift 2:\n",
    "# -------------\n",
    "# Läs innehållet i CSV-filen trafikdata.csv och spara dess innehåll i listan trafik_data. \n",
    "\n",
    "import csv\n",
    "\n",
    "with open('trafikdata.csv') as file:\n",
    "    csv_reader = csv.reader(file, delimiter=';')\n",
    "    # Kastar bort header-raden här. Bättre felhantering i uppgift 6.\n",
    "    next(csv_reader)\n",
    "    trafik_data = [r for r in csv_reader]"
   ]
  },
  {
   "cell_type": "code",
   "execution_count": 4,
   "metadata": {},
   "outputs": [
    {
     "name": "stdout",
     "output_type": "stream",
     "text": [
      "['2013', 'kvartal 3', '8736', '2', '7', '21']\n"
     ]
    }
   ],
   "source": [
    "# Deluppgift 2:\n",
    "# -------------\n",
    "# Uppgift: Verifiera ovanstående kod genom att skriva ut innehållet i 3:e raden i listan trafik_data\n",
    "# (Observera att du måste köra ovanstående cell (Run) innan du får tillgång till listan trafik_data)\n",
    "\n",
    "# Skriv koden här:\n",
    "# Tredje _dataraden_, exklusive header\n",
    "print(trafik_data[2])"
   ]
  },
  {
   "cell_type": "markdown",
   "metadata": {},
   "source": [
    "__Deluppgift 3:__ Utför dataanalys på innehållet i listan __trafik_data__ och skapa en ny lista med namnet __analyserad_data__ som innehåller en rad för varje år och där kolumnernas innehåll ska vara enligt följande:<br>\n",
    "\n",
    "\n",
    "Kolumn 0: År <br>\n",
    "Kolumn 1: Total försening [h]  <br>\n",
    "Kolumn 2: Genomsnittlig försening för samtliga tåg (medelvärde baserat på kvartalsvärden) <br>\n",
    "Kolumn 3: Genomsnittlig försening för samtliga tåg (minsta förseningen baserad på kvartalsvärden) <br>\n",
    "Kolumn 4: Genomsnittlig försening för samtliga tåg (längsta förseningen baserat på kvartalsvärden) <br>\n",
    "Kolumn 5: Genomsnittlig försening för försenade tåg (medelvärde baserat på kvartalsvärden) <br>\n",
    "Kolumn 6: Genomsnittlig försening för försenade tåg (minsta förseningen baserat på kvartalsvärden) <br>\n",
    "Kolumn 7: Genomsnittlig försening för försenade tåg (längsta förseningen baserat på kvartalsvärden) <br>\n",
    "Kolumn 8: Genomsnittlig försening av försenade tåg som är mer än 5 minuter försenade (medelvärde baserat på kvartalsvärden)<br>\n",
    "Kolumn 9: Genomsnittlig försening av försenade tåg som är mer än 5 minuter försenade (minsta förseningen baserat på kvartalsvärden) <br>\n",
    "Kolumn 10: Genomsnittlig försening av försenade tåg som är mer än 5 minuter försenade (längsta förseningen baserat på kvartalsvärden) <br> <br>\n",
    "För att beräkna medelvärde-, minsta och längsta försening ska funktionerna i deluppgift 1 användas.\n",
    "\n",
    "\n",
    "   \n"
   ]
  },
  {
   "cell_type": "code",
   "execution_count": 6,
   "metadata": {},
   "outputs": [],
   "source": [
    "# Deluppgift 3:\n",
    "# -------------\n",
    "\n",
    "# Utför dataanlys på listan trafik_data enligt beskrivning ovan.\n",
    "\n",
    "# Skriv koden här:\n",
    "import re\n",
    "\n",
    "KVARTAL_PER_ÅR = 4\n",
    "\n",
    "# Kolumner i filen\n",
    "OFFSET_ÅR = 0\n",
    "OFFSET_KVARTAL = 1\n",
    "OFFSET_TOTAL = 2\n",
    "OFFSET_GENOMSNITTLIG_FÖRSENING = 3\n",
    "OFFSET_FÖRSENADE = 4\n",
    "OFFSET_FÖRSENADE_MINST_5 = 5\n",
    "\n",
    "ANTAL_DATAKOLUMNER = 6\n",
    "\n",
    "\n",
    "class Årsgruppering:\n",
    "    \"\"\"\n",
    "    Håller ihop data för ett år och möjliggör aggregering.\n",
    "    \"\"\"\n",
    "\n",
    "    def __init__(self, år):\n",
    "        # Enkel sanity check för årtal som placerar oss kring relevant tidsperiod\n",
    "        if not re.match(r\"^(19\\d{2}|2\\d{3})$\", år):\n",
    "            raise ValueError(f\"Ogiltigt år: {år}\")\n",
    "        self.år = år\n",
    "        self.total_försening = 0\n",
    "        self.förseningar_samtliga = []\n",
    "        self.förseningar_försenade = []\n",
    "        self.förseningar_minst_fem_plus = []\n",
    "\n",
    "    def lägg_till_kvartalsrad(self, rad):\n",
    "        \"\"\"Lägger till en rad innehållande data för ett kvartal. Gör grundläggande, men ej uttömmande,\n",
    "        sanity checks på raden, eftersom den inte är typad på något sätt. Emedan kursen inte ställer krav på\n",
    "        avancerad felhantering, så görs här simplistisk felhantering.\n",
    "        \"\"\"\n",
    "\n",
    "        if len(rad) != ANTAL_DATAKOLUMNER:\n",
    "            raise ValueError(f\"En kvartalsrad förväntas ha {ANTAL_DATAKOLUMNER} kolumner; hade {len(rad)}\")\n",
    "        if rad[OFFSET_ÅR] != self.år:\n",
    "            raise ValueError(f\"Försök att lägga till data för år {rad[OFFSET_ÅR]} i årsgruppering för år {self.år}\")\n",
    "        if not re.match(r\"^kvartal [1-4]$\", rad[OFFSET_KVARTAL]):\n",
    "            raise ValueError(f\"Andra kolumnen förväntas inneålla ett kvartal; innehöll {rad[OFFSET_KVARTAL]}\")\n",
    "        for kolumn in range(2, ANTAL_DATAKOLUMNER):\n",
    "            if not rad[kolumn].isnumeric():\n",
    "                raise ValueError(f\"Värdet i kolumn {kolumn} förväntas vara numeriskt; var {rad[kolumn]}\")\n",
    "\n",
    "        # Här vet man de facto inte om minuterna alltid är heltal, men de är det i den fil vi använder.\n",
    "        self.total_försening += int(rad[OFFSET_TOTAL])\n",
    "        self.förseningar_samtliga.append(int(rad[OFFSET_GENOMSNITTLIG_FÖRSENING]))\n",
    "        self.förseningar_försenade.append(int(rad[OFFSET_FÖRSENADE]))\n",
    "        self.förseningar_minst_fem_plus.append(int(rad[OFFSET_FÖRSENADE_MINST_5]))\n",
    "\n",
    "    def aggregera(self):\n",
    "        \"\"\" Aggregerar årsdatat till en lista innehållande medel, min och max för de olika förseningstyperna. \"\"\"\n",
    "\n",
    "        # Ja, den här kollen är lite trivial, men enkel fehnatering var det...\n",
    "        if len(self.förseningar_samtliga) != KVARTAL_PER_ÅR:\n",
    "            raise RuntimeError(\"Kan inte aggregera, eftersom grupperingen inte innehåller fyra kvartal\")\n",
    "\n",
    "        # Gör allt till floats redan här för att passa det angivna utskriftsformatet\n",
    "        return [\n",
    "            self.år,\n",
    "            float(self.total_försening),\n",
    "            float(mean_value(self.förseningar_samtliga)),\n",
    "            float(min_value(self.förseningar_samtliga)),\n",
    "            float(max_value(self.förseningar_samtliga)),\n",
    "            float(mean_value(self.förseningar_försenade)),\n",
    "            float(min_value(self.förseningar_försenade)),\n",
    "            float(max_value(self.förseningar_försenade)),\n",
    "            float(mean_value(self.förseningar_minst_fem_plus)),\n",
    "            float(min_value(self.förseningar_minst_fem_plus)),\n",
    "            float(max_value(self.förseningar_minst_fem_plus))\n",
    "        ]\n",
    "\n",
    "analyserad_data = []\n",
    "if trafik_data:\n",
    "    nuvarande_år = trafik_data[0][0]\n",
    "    årsgruppering = Årsgruppering(nuvarande_år)\n",
    "    for rad in trafik_data:\n",
    "        if rad[0] != nuvarande_år:\n",
    "            analyserad_data.append(årsgruppering.aggregera())\n",
    "            nuvarande_år = rad[0]\n",
    "            årsgruppering = Årsgruppering(nuvarande_år)\n",
    "        årsgruppering.lägg_till_kvartalsrad(rad)"
   ]
  },
  {
   "cell_type": "code",
   "execution_count": 8,
   "metadata": {},
   "outputs": [
    {
     "name": "stdout",
     "output_type": "stream",
     "text": [
      "['2013', 40432.0, 2.75, 2.0, 3.0, 7.75, 7.0, 8.0, 22.5, 21.0, 24.0]\n",
      "['2014', 43677.0, 2.5, 2.0, 3.0, 8.5, 7.0, 10.0, 22.75, 19.0, 25.0]\n",
      "['2015', 43310.0, 3.0, 3.0, 3.0, 8.0, 8.0, 8.0, 22.25, 22.0, 23.0]\n",
      "['2016', 44788.0, 2.5, 2.0, 3.0, 7.75, 7.0, 8.0, 22.75, 21.0, 24.0]\n",
      "['2017', 46665.0, 2.75, 2.0, 3.0, 8.25, 8.0, 9.0, 24.0, 23.0, 25.0]\n",
      "['2018', 62539.0, 3.75, 3.0, 4.0, 10.0, 8.0, 12.0, 25.5, 22.0, 29.0]\n"
     ]
    }
   ],
   "source": [
    "# Deluppgift 3:\n",
    "# -------------\n",
    "\n",
    "# Skriv ut innehållet i listan analyserad_data för att verifiera att är innehållet är korrekt\n",
    "# Skriv koden här:\n",
    "for årsrad in analyserad_data:\n",
    "    print(årsrad)"
   ]
  },
  {
   "cell_type": "markdown",
   "metadata": {},
   "source": [
    "__Deluppgift 4:__ Skapa en egendefinierad funktion med namnet __resultat_tabell__ som har listan __analyserad_data__ som argument och som genererar den resultattabell (ifylld) som finns visad under fliken _Inlämningsuppgift_ i PingPong."
   ]
  },
  {
   "cell_type": "code",
   "execution_count": null,
   "metadata": {},
   "outputs": [],
   "source": [
    "# Deluppgift 4:\n",
    "# -------------\n",
    "\n",
    "# Skapa resultattabellen.\n",
    "\n",
    "def resultat_tabell(analyserad_data):\n",
    "    # Här skriver du programkoden\n",
    "    return\n",
    "\n"
   ]
  },
  {
   "cell_type": "code",
   "execution_count": null,
   "metadata": {},
   "outputs": [],
   "source": [
    "# Deluppgift 4:\n",
    "# -------------\n",
    "\n",
    "# Verifiera att resultattabellen (innehåll och utseende) ser korrekt ut genom att skriva ut innehållet i listan\n",
    "# analyserad data. Glöm inte att listan måste vara genererad sedan tidigare. \n",
    "\n",
    "# Skriv koden här:\n",
    "\n"
   ]
  },
  {
   "cell_type": "markdown",
   "metadata": {},
   "source": [
    "__Deluppgift 5:__ Skapa en egendefinierad funktion med namnet __plotta_data__ som har listan _analyserad_data_ som inargument och som ger en grafisk presentation av innehållet i resultattabellen i deluppgift 4. Följande diagram ska genereras: <br>\n",
    "\n",
    "__Diagram 1:__ <br>\n",
    "Total försening per år för alla tåg under åren 2013-2019.<br>\n",
    "__Diagram 2:__ <br>\n",
    "Genomsnittlig försening per år för alla tåg under åren 2013-2019. Rita en kurva för medelförseningen en kurva för den kortaste förseningen och en kurva för den längsta förseningen<br>\n",
    "__Diagram 3:__ <br>\n",
    "Motsvarande som för diagram 2 fast för genomsnittlig försening per år för _försenade_ tåg under åren 2013-2019. <br>\n",
    "__Diagram 4:__ <br>\n",
    "Motsvarande som för diagram 2 fast för genomsnittlig försening per år av tåg försenade mer än 5 minuter under åren 2013-2019.<br>"
   ]
  },
  {
   "cell_type": "code",
   "execution_count": null,
   "metadata": {},
   "outputs": [],
   "source": [
    "# Deluppgift 5:\n",
    "# -------------\n",
    "\n",
    "# Plotta diagram:\n",
    "def plotta_data(analyserad_data):\n",
    "    # Skriv koden här:\n",
    "    return\n",
    "\n"
   ]
  },
  {
   "cell_type": "code",
   "execution_count": null,
   "metadata": {},
   "outputs": [],
   "source": [
    "# Deluppgift 5:\n",
    "# -------------\n",
    "\n",
    "# Verifiera funktionen plotta _data genom att skriva ut diagrammen från listan analyserad data:\n",
    "\n",
    "# Skriv koden här:\n"
   ]
  },
  {
   "cell_type": "markdown",
   "metadata": {},
   "source": [
    "__Deluppgift 6:__ Skapa ett sammanhållet program genom att implementera den meny som finns beskriven under fliken 'Inlämningsuppgift i PingPong'. En mera detaljerad beskrivning vad de olika menyalternativen ska utföra finns under samma flik. "
   ]
  },
  {
   "cell_type": "code",
   "execution_count": null,
   "metadata": {},
   "outputs": [],
   "source": [
    "# Deluppgift 6:\n",
    "# -------------\n",
    "\n",
    "# Skapa ett sammanhållet program baserat på det menysystem som finns beskrivet under deluppgift 6 i fliken\n",
    "# Inlämningsuppgift i PingPong\n",
    "\n",
    "# Skriv koden här:\n"
   ]
  },
  {
   "cell_type": "code",
   "execution_count": null,
   "metadata": {},
   "outputs": [],
   "source": [
    "# Deluppgift 6:\n",
    "# -------------\n",
    "\n",
    "# Verifiera att programmet fungerar korrekt genom att testa varje menyalternativ. \n",
    "# Detta görs enklast genom att exekvera programkoden i cellen ovan."
   ]
  }
 ],
 "metadata": {
  "kernelspec": {
   "display_name": "Python 3",
   "language": "python",
   "name": "python3"
  },
  "language_info": {
   "codemirror_mode": {
    "name": "ipython",
    "version": 3
   },
   "file_extension": ".py",
   "mimetype": "text/x-python",
   "name": "python",
   "nbconvert_exporter": "python",
   "pygments_lexer": "ipython3",
   "version": "3.8.1"
  }
 },
 "nbformat": 4,
 "nbformat_minor": 2
}
