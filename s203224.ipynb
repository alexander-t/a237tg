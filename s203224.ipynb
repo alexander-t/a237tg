{
 "cells": [
  {
   "cell_type": "markdown",
   "metadata": {},
   "source": [
    "***Inlämningsuppgift i kursen Grundläggande programmering i Python sommaren 2020***"
   ]
  },
  {
   "cell_type": "markdown",
   "metadata": {},
   "source": [
    "__Deluppgift 1:__ Skapa egendefinerade funktioner som beräknar medelvärde, minsta värde och största värde ur en numerisk lista. Använd skelettet i nedanstående cell. "
   ]
  },
  {
   "cell_type": "code",
   "execution_count": 21,
   "metadata": {},
   "outputs": [],
   "source": [
    "# Deluppgift1:\n",
    "# ------------\n",
    "# Egendefinierade funktioner för medelvärde, största- och minsta värde i en numerisk lista (num_lista)\n",
    "\n",
    "# Medelvärde:\n",
    "def mean_value(num_lista):\n",
    "    # Här skriver du programkoden\n",
    "    return medel_varde\n",
    "\n",
    "# Största värde:\n",
    "def max_value(num_lista):\n",
    "    # Här skriver du programkoden\n",
    "    return max_varde\n",
    "\n",
    "# Minsta värde:\n",
    "def min_value(num_lista):\n",
    "    # Här skriver du programkoden\n",
    "    return min_varde\n"
   ]
  },
  {
   "cell_type": "code",
   "execution_count": 22,
   "metadata": {
    "scrolled": true
   },
   "outputs": [],
   "source": [
    "# Deluppgift 1:\n",
    "# -------------\n",
    "# Testa dina egendefinierade funktioner på nedanstående lista och skriv ut svaren på skärmen\n",
    "# (Observera att du måste köra ovanstående cell (Run) innan du kan använda funktionerna)\n",
    "\n",
    "num_lista = [10, 15, -3.25, 73.8, -99.8]\n",
    "\n",
    "# Skriv koden här:\n"
   ]
  },
  {
   "cell_type": "markdown",
   "metadata": {},
   "source": [
    "__Deluppgift 2:__ Läs innehållet i CSV-filen __trafikdata.csv__ och spara dess innehåll i listan __trafik_data__. Använd nedanstående cell."
   ]
  },
  {
   "cell_type": "code",
   "execution_count": null,
   "metadata": {},
   "outputs": [],
   "source": [
    "# Deluppgift 2:\n",
    "# -------------\n",
    "# Läs innehållet i CSV-filen trafikdata.csv och spara dess innehåll i listan trafik_data. \n",
    "\n",
    "# Skriv koden här:\n"
   ]
  },
  {
   "cell_type": "code",
   "execution_count": null,
   "metadata": {},
   "outputs": [],
   "source": [
    "# Deluppgift 2:\n",
    "# -------------\n",
    "# Uppgift: Verifiera ovanstående kod genom att skriva ut innehållet i 3:e raden i listan trafik_data\n",
    "# (Observera att du måste köra ovanstående cell (Run) innan du får tillgång till listan trafik_data)\n",
    "\n",
    "# Skriv koden här:\n"
   ]
  },
  {
   "cell_type": "markdown",
   "metadata": {},
   "source": [
    "__Deluppgift 3:__ Utför dataanalys på innehållet i listan __trafik_data__ och skapa en ny lista med namnet __analyserad_data__ som innehåller en rad för varje år och där kolumnernas innehåll ska vara enligt följande:<br>\n",
    "\n",
    "\n",
    "Kolumn 0: År <br>\n",
    "Kolumn 1: Total försening [h]  <br>\n",
    "Kolumn 2: Genomsnittlig försening för samtliga tåg (medelvärde baserat på kvartalsvärden) <br>\n",
    "Kolumn 3: Genomsnittlig försening för samtliga tåg (minsta förseningen baserad på kvartalsvärden) <br>\n",
    "Kolumn 4: Genomsnittlig försening för samtliga tåg (längsta förseningen baserat på kvartalsvärden) <br>\n",
    "Kolumn 5: Genomsnittlig försening för försenade tåg (medelvärde baserat på kvartalsvärden) <br>\n",
    "Kolumn 6: Genomsnittlig försening för försenade tåg (minsta förseningen baserat på kvartalsvärden) <br>\n",
    "Kolumn 7: Genomsnittlig försening för försenade tåg (längsta förseningen baserat på kvartalsvärden) <br>\n",
    "Kolumn 8: Genomsnittlig försening av försenade tåg som är mer än 5 minuter försenade (medelvärde baserat på kvartalsvärden)<br>\n",
    "Kolumn 9: Genomsnittlig försening av försenade tåg som är mer än 5 minuter försenade (minsta förseningen baserat på kvartalsvärden) <br>\n",
    "Kolumn 10: Genomsnittlig försening av försenade tåg som är mer än 5 minuter försenade (längsta förseningen baserat på kvartalsvärden) <br> <br>\n",
    "För att beräkna medelvärde-, minsta och längsta försening ska funktionerna i deluppgift 1 användas.\n",
    "\n",
    "\n",
    "   \n"
   ]
  },
  {
   "cell_type": "code",
   "execution_count": null,
   "metadata": {},
   "outputs": [],
   "source": [
    "# Deluppgift 3:\n",
    "# -------------\n",
    "\n",
    "# Utför dataanlys på listan trafik_data enligt beskrivning ovan.\n",
    "\n",
    "# Skriv koden här:\n",
    "\n"
   ]
  },
  {
   "cell_type": "code",
   "execution_count": null,
   "metadata": {},
   "outputs": [],
   "source": [
    "# Deluppgift 3:\n",
    "# -------------\n",
    "\n",
    "# Skriv ut innehållet i listan analyserad_data för att verifiera att är innehållet är korrekt\n",
    "# Skriv koden här:"
   ]
  },
  {
   "cell_type": "markdown",
   "metadata": {},
   "source": [
    "__Deluppgift 4:__ Skapa en egendefinierad funktion med namnet __resultat_tabell__ som har listan __analyserad_data__ som argument och som genererar den resultattabell (ifylld) som finns visad under fliken _Inlämningsuppgift_ i PingPong."
   ]
  },
  {
   "cell_type": "code",
   "execution_count": null,
   "metadata": {},
   "outputs": [],
   "source": [
    "# Deluppgift 4:\n",
    "# -------------\n",
    "\n",
    "# Skapa resultattabellen.\n",
    "\n",
    "def resultat_tabell(analyserad_data):\n",
    "    # Här skriver du programkoden\n",
    "    return\n",
    "\n"
   ]
  },
  {
   "cell_type": "code",
   "execution_count": null,
   "metadata": {},
   "outputs": [],
   "source": [
    "# Deluppgift 4:\n",
    "# -------------\n",
    "\n",
    "# Verifiera att resultattabellen (innehåll och utseende) ser korrekt ut genom att skriva ut innehållet i listan\n",
    "# analyserad data. Glöm inte att listan måste vara genererad sedan tidigare. \n",
    "\n",
    "# Skriv koden här:\n",
    "\n"
   ]
  },
  {
   "cell_type": "markdown",
   "metadata": {},
   "source": [
    "__Deluppgift 5:__ Skapa en egendefinierad funktion med namnet __plotta_data__ som har listan _analyserad_data_ som inargument och som ger en grafisk presentation av innehållet i resultattabellen i deluppgift 4. Följande diagram ska genereras: <br>\n",
    "\n",
    "__Diagram 1:__ <br>\n",
    "Total försening per år för alla tåg under åren 2013-2019.<br>\n",
    "__Diagram 2:__ <br>\n",
    "Genomsnittlig försening per år för alla tåg under åren 2013-2019. Rita en kurva för medelförseningen en kurva för den kortaste förseningen och en kurva för den längsta förseningen<br>\n",
    "__Diagram 3:__ <br>\n",
    "Motsvarande som för diagram 2 fast för genomsnittlig försening per år för _försenade_ tåg under åren 2013-2019. <br>\n",
    "__Diagram 4:__ <br>\n",
    "Motsvarande som för diagram 2 fast för genomsnittlig försening per år av tåg försenade mer än 5 minuter under åren 2013-2019.<br>"
   ]
  },
  {
   "cell_type": "code",
   "execution_count": null,
   "metadata": {},
   "outputs": [],
   "source": [
    "# Deluppgift 5:\n",
    "# -------------\n",
    "\n",
    "# Plotta diagram:\n",
    "def plotta_data(analyserad_data):\n",
    "    # Skriv koden här:\n",
    "    return\n",
    "\n"
   ]
  },
  {
   "cell_type": "code",
   "execution_count": null,
   "metadata": {},
   "outputs": [],
   "source": [
    "# Deluppgift 5:\n",
    "# -------------\n",
    "\n",
    "# Verifiera funktionen plotta _data genom att skriva ut diagrammen från listan analyserad data:\n",
    "\n",
    "# Skriv koden här:\n"
   ]
  },
  {
   "cell_type": "markdown",
   "metadata": {},
   "source": [
    "__Deluppgift 6:__ Skapa ett sammanhållet program genom att implementera den meny som finns beskriven under fliken 'Inlämningsuppgift i PingPong'. En mera detaljerad beskrivning vad de olika menyalternativen ska utföra finns under samma flik. "
   ]
  },
  {
   "cell_type": "code",
   "execution_count": null,
   "metadata": {},
   "outputs": [],
   "source": [
    "# Deluppgift 6:\n",
    "# -------------\n",
    "\n",
    "# Skapa ett sammanhållet program baserat på det menysystem som finns beskrivet under deluppgift 6 i fliken\n",
    "# Inlämningsuppgift i PingPong\n",
    "\n",
    "# Skriv koden här:\n"
   ]
  },
  {
   "cell_type": "code",
   "execution_count": null,
   "metadata": {},
   "outputs": [],
   "source": [
    "# Deluppgift 6:\n",
    "# -------------\n",
    "\n",
    "# Verifiera att programmet fungerar korrekt genom att testa varje menyalternativ. \n",
    "# Detta görs enklast genom att exekvera programkoden i cellen ovan."
   ]
  }
 ],
 "metadata": {
  "kernelspec": {
   "display_name": "Python 3",
   "language": "python",
   "name": "python3"
  },
  "language_info": {
   "codemirror_mode": {
    "name": "ipython",
    "version": 3
   },
   "file_extension": ".py",
   "mimetype": "text/x-python",
   "name": "python",
   "nbconvert_exporter": "python",
   "pygments_lexer": "ipython3",
   "version": "3.7.3"
  }
 },
 "nbformat": 4,
 "nbformat_minor": 2
}
